{
 "cells": [
  {
   "cell_type": "markdown",
   "metadata": {},
   "source": [
    "## 1.导入所需要的库（pytorch）"
   ]
  },
  {
   "cell_type": "code",
   "execution_count": 4,
   "metadata": {},
   "outputs": [],
   "source": [
    "import torch\n",
    "from torch import nn\n",
    "import torch.functional as F\n",
    "import math"
   ]
  },
  {
   "cell_type": "code",
   "execution_count": 5,
   "metadata": {},
   "outputs": [
    {
     "name": "stdout",
     "output_type": "stream",
     "text": [
      "torch.Size([128, 64, 512])\n"
     ]
    }
   ],
   "source": [
    "X=torch.randn(128,64,512) #编码后的数据有三维：batch，time，dimension\n",
    "print(X.shape)\n",
    "#定义一个多头注意力机制"
   ]
  },
  {
   "cell_type": "code",
   "execution_count": null,
   "metadata": {},
   "outputs": [],
   "source": [
    "d_model=512\n",
    "n_head=8"
   ]
  },
  {
   "cell_type": "code",
   "execution_count": null,
   "metadata": {},
   "outputs": [],
   "source": [
    "class MultiHeadAttention(nn.Module):\n",
    "    def __init__(self,d_model,n_head):\n",
    "        super(MultiHeadAttention,self).__init__()\n",
    "        self.n_head=n_head\n",
    "        self.d_model=d_model\n",
    "        self.d_k=d_model//n_head\n",
    "        self.WQ=nn.Linear(d_model,d_model)\n",
    "        self.WK=nn.Linear(d_model,d_model)\n",
    "        self.WV=nn.Linear(d_model,d_model)\n",
    "        self.WO=nn.Linear(d_model,d_model)  \n",
    "    def forward(self,Q,K,V):        \n",
    "        Q=self.WQ(Q)\n",
    "        K=self.WK(K)\n",
    "        V=self.WV(V)\n",
    "        Q,K,V=[self.split_head(x) for x in [Q,K,V]]\n",
    "        out=self.attention(Q,K,V)\n",
    "        out=self.merge_head(out)\n",
    "        out=self.WO(out)\n",
    "        return out                              "
   ]
  }
 ],
 "metadata": {
  "kernelspec": {
   "display_name": "DL",
   "language": "python",
   "name": "python3"
  },
  "language_info": {
   "codemirror_mode": {
    "name": "ipython",
    "version": 3
   },
   "file_extension": ".py",
   "mimetype": "text/x-python",
   "name": "python",
   "nbconvert_exporter": "python",
   "pygments_lexer": "ipython3",
   "version": "3.10.16"
  }
 },
 "nbformat": 4,
 "nbformat_minor": 2
}
